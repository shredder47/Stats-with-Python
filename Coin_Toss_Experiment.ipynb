{
  "nbformat": 4,
  "nbformat_minor": 0,
  "metadata": {
    "colab": {
      "name": "Coin Toss Experiment.ipynb",
      "provenance": [],
      "collapsed_sections": []
    },
    "kernelspec": {
      "name": "python3",
      "display_name": "Python 3"
    }
  },
  "cells": [
    {
      "cell_type": "code",
      "metadata": {
        "id": "166mrEcLl9fk",
        "colab_type": "code",
        "colab": {}
      },
      "source": [
        "import numpy as np\n",
        "import matplotlib.pyplot as plt\n",
        "\n",
        "from typing import List\n",
        "\n",
        "# For reproducibility\n",
        "np.random.seed(1)\n"
      ],
      "execution_count": 80,
      "outputs": []
    },
    {
      "cell_type": "code",
      "metadata": {
        "id": "dmJ9-OOLmJm0",
        "colab_type": "code",
        "colab": {}
      },
      "source": [
        "\n",
        "def experiment(num_toss: int, num_repeat: int) -> None:\n",
        "    # For storing outcomes of each experiments\n",
        "    all_outcomes: List[List[int]] = []\n",
        "\n",
        "    for i in range(num_repeat):\n",
        "        # For storing each outcome of a toss\n",
        "        outcomes: List[int] = [0]\n",
        "\n",
        "        for j in range(num_toss):\n",
        "            # 1 = Tail\n",
        "            # 0 = Head\n",
        "            outcome = np.random.randint(0, 2)\n",
        "\n",
        "            # Appending the result of current outcome with previous outcome\n",
        "            outcomes.append(outcomes[-1] + outcome)\n",
        "        # Appending each experiments outcomes\n",
        "        all_outcomes.append(outcomes)\n",
        "\n",
        "    # Conversion to 2D array\n",
        "    np_arr: np.ndarray = np.array(all_outcomes)\n",
        "\n",
        "    # Getting last item of each Row, i.e the total number of tails\n",
        "    num_tails_per_exp: List[int] = np_arr[:, -1]\n",
        "\n",
        "    plt.style.use('seaborn')\n",
        "    plt.hist(num_tails_per_exp, bins=10, density=False)\n",
        "    plt.title('Experimental Probability vs Theoretical Probability')\n",
        "    plt.show()\n",
        "\n"
      ],
      "execution_count": 81,
      "outputs": []
    },
    {
      "cell_type": "code",
      "metadata": {
        "id": "Bpbga06XoXmw",
        "colab_type": "code",
        "colab": {
          "base_uri": "https://localhost:8080/",
          "height": 362
        },
        "outputId": "bfdbc2ae-ff9d-410b-e6e0-6735d22cd41e"
      },
      "source": [
        "\n",
        "# Call experiment function\n",
        "experiment(num_toss=10, num_repeat=1000)\n"
      ],
      "execution_count": 82,
      "outputs": [
        {
          "output_type": "display_data",
          "data": {
            "image/png": "[encoded data removed]",
            "text/plain": [
              "<Figure size 576x396 with 1 Axes>"
            ]
          },
          "metadata": {
            "tags": []
          }
        }
      ]
    },
    {
      "cell_type": "code",
      "metadata": {
        "id": "ZpfD8zFWodcr",
        "colab_type": "code",
        "colab": {}
      },
      "source": [
        ""
      ],
      "execution_count": 82,
      "outputs": []
    }
  ]
}